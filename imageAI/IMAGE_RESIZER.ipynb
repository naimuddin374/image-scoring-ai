{
 "cells": [
  {
   "cell_type": "code",
   "execution_count": 1,
   "metadata": {},
   "outputs": [],
   "source": [
    "from keras.models import Sequential\n",
    "from keras.layers import Activation, Input, Dense, Dropout, Flatten\n",
    "import tensorflow\n",
    "from tensorflow.keras.layers import Input, BatchNormalization, ReLU, Conv2D, Dense, MaxPool2D, AvgPool2D, GlobalAvgPool2D, Concatenate\n",
    "from keras.utils import np_utils\n",
    "import numpy as np\n",
    "import matplotlib.pyplot as plt\n",
    "import os\n",
    "from PIL import Image,ImageOps\n",
    "from numpy import *\n",
    "\n",
    "#import cv2"
   ]
  },
  {
   "cell_type": "code",
   "execution_count": null,
   "metadata": {},
   "outputs": [],
   "source": []
  },
  {
   "cell_type": "code",
   "execution_count": 10,
   "metadata": {},
   "outputs": [],
   "source": [
    "path1=r'C:/Users/ashik/ticon_projects/imageAI/assets/img/'\n",
    "path2=r'C:/Users/ashik/ticon_projects/imageAI/assets/img/'"
   ]
  },
  {
   "cell_type": "code",
   "execution_count": 11,
   "metadata": {},
   "outputs": [],
   "source": [
    "listing = os.listdir(path1)"
   ]
  },
  {
   "cell_type": "code",
   "execution_count": 12,
   "metadata": {},
   "outputs": [],
   "source": [
    "img_rows , img_cols = 752, 752"
   ]
  },
  {
   "cell_type": "code",
   "execution_count": 13,
   "metadata": {},
   "outputs": [],
   "source": [
    "for file in listing:\n",
    "    im = Image.open(path1 + '/' + file)\n",
    "    img = im.resize((img_rows, img_cols))\n",
    "    gray = img.convert('RGB')\n",
    "    \n",
    "    gray.save(path2 + '/' + file, \"JPEG\" )\n",
    "    "
   ]
  },
  {
   "cell_type": "markdown",
   "metadata": {},
   "source": [
    "File delete code"
   ]
  },
  {
   "cell_type": "code",
   "execution_count": 63,
   "metadata": {},
   "outputs": [
    {
     "name": "stdout",
     "output_type": "stream",
     "text": [
      "10\n",
      "[['C:/Users/ashik/ticon_projects/imageAI/media/after_filtering\\\\bgchange1669543707628background_blur_bg.jpg1669543621205old.jpg', 'C:/Users/ashik/ticon_projects/imageAI/media/after_filtering\\\\filterfilter1.jpg1669543621205old.jpg', 'C:/Users/ashik/ticon_projects/imageAI/media/after_filtering\\\\filterfilter10.jpg1669543621205old.jpg', 'C:/Users/ashik/ticon_projects/imageAI/media/after_filtering\\\\overlappedfilter1669543621205old.jpg'], ['C:/Users/ashik/ticon_projects/imageAI/media/after_gif\\\\gif1.gif1669543621205old.jpg____.gif', 'C:/Users/ashik/ticon_projects/imageAI/media/after_gif\\\\gif10.gif1669543621205old.jpg____.gif', 'C:/Users/ashik/ticon_projects/imageAI/media/after_gif\\\\gif2.gif1669543621205old.jpg____.gif'], ['C:/Users/ashik/ticon_projects/imageAI/media/background_blur\\\\bgblur1669543621205old.jpg'], [], ['C:/Users/ashik/ticon_projects/imageAI/media/background_remove\\\\bg1669543621205old.jpg', 'C:/Users/ashik/ticon_projects/imageAI/media/background_remove\\\\bg1669543621205old.jpg___.png'], ['C:/Users/ashik/ticon_projects/imageAI/media/beautification\\\\beauty1669543621205old.jpg'], ['C:/Users/ashik/ticon_projects/imageAI/media/custom_background\\\\1669543665676background_blur_bg.jpg'], ['C:/Users/ashik/ticon_projects/imageAI/media/custom_filter\\\\1669543707628background_blur_bg.jpg', 'C:/Users/ashik/ticon_projects/imageAI/media/custom_filter\\\\old.jpg'], ['C:/Users/ashik/ticon_projects/imageAI/media/face_focused\\\\ff1669543621205old.jpg'], ['C:/Users/ashik/ticon_projects/imageAI/media/uploaded\\\\1669543621205old.jpg']]\n"
     ]
    }
   ],
   "source": [
    "import os\n",
    "import glob\n",
    "files=[]\n",
    "files.append(glob.glob('C:/Users/ashik/ticon_projects/imageAI/media/after_filtering/*'))\n",
    "files.append(glob.glob('C:/Users/ashik/ticon_projects/imageAI/media/after_gif/*'))\n",
    "files.append(glob.glob('C:/Users/ashik/ticon_projects/imageAI/media/background_blur/*'))\n",
    "files.append(glob.glob('C:/Users/ashik/ticon_projects/imageAI/media/background_change/*'))\n",
    "files.append(glob.glob('C:/Users/ashik/ticon_projects/imageAI/media/background_remove/*'))\n",
    "files.append(glob.glob('C:/Users/ashik/ticon_projects/imageAI/media/beautification/*'))\n",
    "files.append(glob.glob('C:/Users/ashik/ticon_projects/imageAI/media/custom_background/*'))\n",
    "files.append(glob.glob('C:/Users/ashik/ticon_projects/imageAI/media/custom_filter/*'))\n",
    "files.append(glob.glob('C:/Users/ashik/ticon_projects/imageAI/media/face_focused/*'))\n",
    "files.append(glob.glob('C:/Users/ashik/ticon_projects/imageAI/media/uploaded/*'))\n",
    "\n",
    "# for i in range(10):\n",
    "#     files.append()\n",
    "# files.append(files1)\n",
    "print(len(files))\n",
    "print(files)\n"
   ]
  },
  {
   "cell_type": "code",
   "execution_count": 64,
   "metadata": {},
   "outputs": [
    {
     "name": "stdout",
     "output_type": "stream",
     "text": [
      "C:/Users/ashik/ticon_projects/imageAI/media/after_filtering\\bgchange1669543707628background_blur_bg.jpg1669543621205old.jpg\n",
      "C:/Users/ashik/ticon_projects/imageAI/media/after_filtering\\filterfilter1.jpg1669543621205old.jpg\n",
      "C:/Users/ashik/ticon_projects/imageAI/media/after_filtering\\filterfilter10.jpg1669543621205old.jpg\n",
      "C:/Users/ashik/ticon_projects/imageAI/media/after_filtering\\overlappedfilter1669543621205old.jpg\n",
      "C:/Users/ashik/ticon_projects/imageAI/media/after_gif\\gif1.gif1669543621205old.jpg____.gif\n",
      "C:/Users/ashik/ticon_projects/imageAI/media/after_gif\\gif10.gif1669543621205old.jpg____.gif\n",
      "C:/Users/ashik/ticon_projects/imageAI/media/after_gif\\gif2.gif1669543621205old.jpg____.gif\n",
      "C:/Users/ashik/ticon_projects/imageAI/media/background_blur\\bgblur1669543621205old.jpg\n",
      "C:/Users/ashik/ticon_projects/imageAI/media/background_remove\\bg1669543621205old.jpg\n",
      "C:/Users/ashik/ticon_projects/imageAI/media/background_remove\\bg1669543621205old.jpg___.png\n",
      "C:/Users/ashik/ticon_projects/imageAI/media/beautification\\beauty1669543621205old.jpg\n",
      "C:/Users/ashik/ticon_projects/imageAI/media/custom_background\\1669543665676background_blur_bg.jpg\n",
      "C:/Users/ashik/ticon_projects/imageAI/media/custom_filter\\1669543707628background_blur_bg.jpg\n",
      "C:/Users/ashik/ticon_projects/imageAI/media/custom_filter\\old.jpg\n",
      "C:/Users/ashik/ticon_projects/imageAI/media/face_focused\\ff1669543621205old.jpg\n",
      "C:/Users/ashik/ticon_projects/imageAI/media/uploaded\\1669543621205old.jpg\n"
     ]
    }
   ],
   "source": [
    "for index in range(len(files)):\n",
    "    for key in files[index]:\n",
    "    # print(index)\n",
    "        print(key)\n",
    "        os.remove(key)"
   ]
  },
  {
   "cell_type": "code",
   "execution_count": null,
   "metadata": {},
   "outputs": [],
   "source": []
  }
 ],
 "metadata": {
  "kernelspec": {
   "display_name": "Python 3.9.12 ('AI')",
   "language": "python",
   "name": "python3"
  },
  "language_info": {
   "codemirror_mode": {
    "name": "ipython",
    "version": 3
   },
   "file_extension": ".py",
   "mimetype": "text/x-python",
   "name": "python",
   "nbconvert_exporter": "python",
   "pygments_lexer": "ipython3",
   "version": "3.9.12"
  },
  "orig_nbformat": 4,
  "vscode": {
   "interpreter": {
    "hash": "10f17ff9e5ffb9e38e409b654d6f5054e7f0fc333b40ad97caf27eddf3ff8db3"
   }
  }
 },
 "nbformat": 4,
 "nbformat_minor": 2
}
